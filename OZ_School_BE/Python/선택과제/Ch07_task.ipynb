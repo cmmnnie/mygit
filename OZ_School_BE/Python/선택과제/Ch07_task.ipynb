{
  "cells": [
    {
      "cell_type": "markdown",
      "metadata": {
        "id": "view-in-github",
        "colab_type": "text"
      },
      "source": [
        "<a href=\"https://colab.research.google.com/github/cmmnnie/mygit/blob/main/OZ_School_BE/Python/%EC%84%A0%ED%83%9D%EA%B3%BC%EC%A0%9C/Ch07_task.ipynb\" target=\"_parent\"><img src=\"https://colab.research.google.com/assets/colab-badge.svg\" alt=\"Open In Colab\"/></a>"
      ]
    },
    {
      "cell_type": "markdown",
      "metadata": {
        "id": "M5QwCtB2slHt"
      },
      "source": [
        "<span style=\"font-size:100%\">\n",
        "\n",
        "수업은 모두 열심히 들으셨나요?\n",
        "\n",
        "간혹 강의에서 언급되지 않은 내용이 문제로 나올 수 있습니다.<br>\n",
        "그럴땐 강의 내용 외 문제는 구글링을 통해 해결해주세요<br></span>\n",
        "<span style=\"font-size:80%\">\n",
        "(구글링 또한 개발자가 갖쳐야할 역량 중에 하나랍니다 😊)\n",
        "</span>\n",
        "\n",
        "---"
      ]
    },
    {
      "cell_type": "markdown",
      "metadata": {
        "id": "hHC0BzH-slHw"
      },
      "source": [
        "<span style=\"font-size:80%\">[문제1]<br><br></span>\n",
        "```변수 퀴즈에 들어있는 정답 \"어중이떠중이\"를 출력하기 위한 슬라이싱으로 올바른 것을 모두 골라주세요```\n",
        "\n",
        "퀴즈 = \"스님이 공중에 뜬다를 4글자로 말하면? 어중이떠중이\"\n",
        "\n",
        "1. print(퀴즈[21:27])\n",
        "2. print(퀴즈[21:])\n",
        "3. print(퀴즈[21:28])\n",
        "4. print(퀴즈[28])"
      ]
    },
    {
      "cell_type": "markdown",
      "metadata": {
        "id": "QZB91p8hslHx"
      },
      "source": [
        "<span style=\"color:red\">답변</span>\n",
        "<aside>\n",
        "🔑 정답 : **print(퀴즈[22: ]), print(퀴즈[22:28])**\n",
        "\n",
        "문자열 슬라이싱을 이용해 \"어중이떠중이\"를 추출하기 위해선, 해당 문자열이 시작하는 인덱스와 끝나는 인덱스를 알아야 합니다.\n",
        "\n",
        "파이썬에서 문자열 인덱스는 0부터 시작하며, 슬라이싱은 [시작 인덱스:끝 인덱스] 형식으로 작성하며, 끝 인덱스는 실제로 추출되는 범위에서 제외됩니다.\n",
        "\n",
        "변수 `퀴즈`에 들어있는 문자열은 \"스님이 공중에 뜬다를 4글자로 말하면? 어중이떠중이\"이므로, \"어중이떠중이\"는 22번째 인덱스부터 시작합니다.\n",
        "\n",
        "따라서 슬라이싱 코드는 다음과 같습니다.\n",
        "\n",
        "</aside>"
      ]
    },
    {
      "cell_type": "markdown",
      "metadata": {
        "id": "OgDwFtmyslHy"
      },
      "source": []
    },
    {
      "cell_type": "markdown",
      "metadata": {
        "id": "wAhR-LqPslHy"
      },
      "source": [
        "----"
      ]
    },
    {
      "cell_type": "markdown",
      "metadata": {
        "id": "EJD-UGzcslHy"
      },
      "source": [
        "<span style=\"font-size:80%\">[문제2]<br><br></span>\n",
        "```과일 변수에 들어있는 p의 개수를 구하는 코드로 올바른 것을 골라주세요```\n",
        "\n",
        "과일 = \"apple\"\n",
        "\n",
        "1. 과일.count('p')\n",
        "2. count(과일, 'p')\n",
        "3. 과일.index('p')\n",
        "4. count('p')"
      ]
    },
    {
      "cell_type": "markdown",
      "metadata": {
        "id": "fC9rj0scslHy"
      },
      "source": [
        "<span style=\"color:red\">답변</span> : 1"
      ]
    },
    {
      "cell_type": "markdown",
      "metadata": {
        "id": "O5pfS1iEslHy"
      },
      "source": []
    },
    {
      "cell_type": "markdown",
      "metadata": {
        "id": "K3TdJJM-slHz"
      },
      "source": [
        "----"
      ]
    },
    {
      "cell_type": "markdown",
      "metadata": {
        "id": "5LFisiDwslHz"
      },
      "source": [
        "<span style=\"font-size:80%\">[문제3]<br><br></span>\n",
        "```bool 타입에 해당하는 것만 골라주세요(문제 수정)```\n",
        "\n",
        "\n",
        "1. true\n",
        "2. True\n",
        "3. False\n",
        "4. 0\n",
        "5. 1"
      ]
    },
    {
      "cell_type": "markdown",
      "metadata": {
        "id": "O8-YyEr3slHz"
      },
      "source": [
        "<span style=\"color:red\">답변</span> : 2 , 3\n",
        "\n",
        "true, 0, 1은 bool 타입이 아닙니다.\n",
        "\n",
        "파이썬에서는 불리언(Boolean) 타입을 `True`와 `False`로 표현합니다. 여기서 주의해야 할 점은 `True`와 `False`는 대문자로 시작해야 한다는 것입니다. 따라서 소문자로 시작하는 `true`는 bool 타입이 아닙니다.\n",
        "\n",
        "`0`과 `1`은 정수 타입입니다. 불리언 타입의 `True`와 `False`는 내부적으로 `1`과 `0`으로 처리되기는 하지만, 이는 불리언 타입의 특성이며 `0`과 `1` 자체가 불리언 타입인 것은 아닙니다.\n",
        "\n",
        "불리언 타입으로 분류되는 데이터는 참(True)과 거짓(False) 두 가지 값만을 가질 수 있습니다. 불리언 타입은 조건문, 비교 연산, 논리 연산 등에서 주로 사용됩니다. 예를 들어, 조건이 충족되면 `True`를, 충족되지 않으면 `False`를 반환하는 등의 방식으로 사용됩니다."
      ]
    },
    {
      "cell_type": "markdown",
      "metadata": {
        "id": "yE6d4DpvslHz"
      },
      "source": []
    },
    {
      "cell_type": "markdown",
      "metadata": {
        "id": "BHo8WxkEslHz"
      },
      "source": [
        "----"
      ]
    },
    {
      "cell_type": "markdown",
      "metadata": {
        "id": "aOuhS7_sslH0"
      },
      "source": [
        "<span style=\"font-size:80%\">[문제4]<br><br></span>\n",
        "```문자열의 길이를 구하는 방법으로 올바른 것을 고르세요```\n",
        "\n",
        "라라랜드 =  \"사람들은 다른 사람들의 열정에 끌리게 되어있어 자신이 잊은 걸 상기시켜 주니까\"\n",
        "\n",
        "1. 라라랜드.len()\n",
        "2. length(라라랜드)\n",
        "3. len(라라랜드)\n",
        "4. count(라라랜드)"
      ]
    },
    {
      "cell_type": "markdown",
      "metadata": {
        "id": "Y8-dYf5islH0"
      },
      "source": [
        "<span style=\"color:red\">답변</span> : 3\n",
        "\n",
        "파이썬에서 문자열의 길이를 구하는 방법은 len() 함수를 사용하는 것입니다. len() 함수는 문자열 뿐만 아니라 리스트, 튜플 등의 시퀀스 타입의 길이(요소의 개수)를 반환합니다."
      ]
    },
    {
      "cell_type": "markdown",
      "metadata": {
        "id": "zIJl1BMbslH0"
      },
      "source": []
    },
    {
      "cell_type": "markdown",
      "metadata": {
        "id": "IwQuuKQrslH0"
      },
      "source": [
        "----"
      ]
    },
    {
      "cell_type": "markdown",
      "metadata": {
        "id": "sjRuBlh8slH0"
      },
      "source": [
        "<span style=\"font-size:80%\">[문제5]<br><br></span>\n",
        "```우영우 변수에 출력 값이 반대로 나오게 코드를 작성해주세요```\n",
        "\n",
        "우영우 = \"기러기토마토스위스역삼역\"\n",
        "\n",
        "출력값 : 역삼역스위스토마토기러기\n"
      ]
    },
    {
      "cell_type": "markdown",
      "metadata": {
        "id": "NMuaGB3islH1"
      },
      "source": [
        "<span style=\"color:red\">답변</span> : print(우영우[::-1])\n",
        "\n",
        "문자열을 반대로 출력하기 위해서는 파이썬의 슬라이싱 기능을 이용할 수 있습니다. 슬라이싱에서 step 부분에 -1을 지정하면 문자열을 역순으로 접근합니다. 위 코드는 우영우 변수의 문자열을 역순으로 접근하여 출력합니다."
      ]
    },
    {
      "cell_type": "markdown",
      "metadata": {
        "id": "TTX2pDK8slH1"
      },
      "source": []
    }
  ],
  "metadata": {
    "language_info": {
      "name": "python"
    },
    "colab": {
      "provenance": [],
      "include_colab_link": true
    },
    "kernelspec": {
      "name": "python3",
      "display_name": "Python 3"
    }
  },
  "nbformat": 4,
  "nbformat_minor": 0
}