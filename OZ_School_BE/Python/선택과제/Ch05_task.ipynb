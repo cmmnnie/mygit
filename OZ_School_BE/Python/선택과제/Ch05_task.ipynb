{
  "cells": [
    {
      "cell_type": "markdown",
      "metadata": {
        "id": "view-in-github",
        "colab_type": "text"
      },
      "source": [
        "<a href=\"https://colab.research.google.com/github/cmmnnie/mygit/blob/main/OZ_School_BE/Python/%EC%84%A0%ED%83%9D%EA%B3%BC%EC%A0%9C/Ch05_task.ipynb\" target=\"_parent\"><img src=\"https://colab.research.google.com/assets/colab-badge.svg\" alt=\"Open In Colab\"/></a>"
      ]
    },
    {
      "cell_type": "markdown",
      "metadata": {
        "id": "-lclqrREnPTx"
      },
      "source": [
        "<span style=\"font-size:100%\">\n",
        "\n",
        "수업은 모두 열심히 들으셨나요?\n",
        "\n",
        "간혹 강의에서 언급되지 않은 내용이 문제로 나올 수 있습니다.<br>\n",
        "그럴땐 강의 내용 외 문제는 구글링을 통해 해결해주세요<br></span>\n",
        "<span style=\"font-size:80%\">\n",
        "(구글링 또한 개발자가 갖쳐야할 역량 중에 하나랍니다 😊)\n",
        "</span>\n",
        "\n",
        "---"
      ]
    },
    {
      "cell_type": "markdown",
      "metadata": {
        "id": "cukbHXxJnPT0"
      },
      "source": [
        "<span style=\"font-size:80%\">[문제1]<br><br></span>\n",
        "```Python으로 변수를 생성하는 방법으로 올바른 것을 고르세요```\n",
        "\n",
        "1. number == 20\n",
        "2. 100 == number\n",
        "3. number(7)\n",
        "4. number = 7"
      ]
    },
    {
      "cell_type": "markdown",
      "metadata": {
        "id": "MWADXorrnPT2"
      },
      "source": [
        "# <span style=\"color:red\">답변</span> : 4"
      ]
    },
    {
      "cell_type": "markdown",
      "metadata": {
        "id": "1bj436tGnPT2"
      },
      "source": []
    },
    {
      "cell_type": "markdown",
      "metadata": {
        "id": "5CnndesunPT3"
      },
      "source": [
        "----"
      ]
    },
    {
      "cell_type": "markdown",
      "metadata": {
        "id": "P5pX-sz6nPT3"
      },
      "source": [
        "<span style=\"font-size:80%\">[문제2]<br><br></span>\n",
        "```다음 중 올바르지 않은 것을 골라주세요```\n",
        "\n",
        "이름 = \"김오즈\"<br>\n",
        "나이 = 14<br>\n",
        "소속 = \"마법중\"<br>\n",
        "등급 = 3<br>\n",
        "\n",
        "1. 이름 + 소속\n",
        "2. 나이 + 등급\n",
        "3. 소속 + 등급"
      ]
    },
    {
      "cell_type": "markdown",
      "metadata": {
        "id": "kFdXeJwLnPT3"
      },
      "source": [
        "<span style=\"color:red\">답변</span> : 3"
      ]
    },
    {
      "cell_type": "markdown",
      "metadata": {
        "id": "G0pmVUKrnPT3"
      },
      "source": []
    },
    {
      "cell_type": "markdown",
      "metadata": {
        "id": "Af18gyFfnPT3"
      },
      "source": [
        "----"
      ]
    },
    {
      "cell_type": "markdown",
      "metadata": {
        "id": "jYiUX0VknPT3"
      },
      "source": [
        "<span style=\"font-size:80%\">[문제3]<br><br></span>\n",
        "```아래 변수의 type으로 올바른것을 골라주세요```\n",
        "\n",
        "퀴즈 = \"스페인에서 카리나를 보고 하는 말은?\"<br>\n",
        "type(퀴즈)"
      ]
    },
    {
      "cell_type": "markdown",
      "metadata": {
        "id": "TauJnYGAnPT4"
      },
      "source": [
        "<span style=\"color:red\">답변</span> : str"
      ]
    },
    {
      "cell_type": "markdown",
      "source": [
        "`퀴즈` 변수에는 문자열 값이 할당되어 있으므로, `type(퀴즈)`의 출력 결과는 `<class 'str'>`이 됩니다.\n",
        "\n",
        "파이썬에서 `type()` 함수는 입력된 변수 또는 값의 타입을 반환하는 내장 함수입니다. 여기서 'str'은 문자열을 의미하는 'string'의 줄임말입니다.\n",
        "\n",
        "따라서 `퀴즈` 변수에 문자열 값이 할당되어 있으므로, `type(퀴즈)`는 `<class 'str'>`을 출력합니다. 이는 `퀴즈` 변수의 타입이 문자열임을 나타냅니다."
      ],
      "metadata": {
        "id": "xQAa4lwnrLh1"
      }
    },
    {
      "cell_type": "markdown",
      "metadata": {
        "id": "FPoZZalnnPT4"
      },
      "source": []
    },
    {
      "cell_type": "markdown",
      "metadata": {
        "id": "Up-aylpknPT4"
      },
      "source": [
        "----"
      ]
    },
    {
      "cell_type": "markdown",
      "metadata": {
        "id": "Hq4wNGA8nPT5"
      },
      "source": [
        "<span style=\"font-size:80%\">[문제4]<br><br></span>\n",
        "```다음 중 변수 이름으로 사용할 수 없는 것을 모두 골라주세요```\n",
        "\n",
        "1. 78abc\n",
        "2. ABC\n",
        "3. _ABC\n",
        "4. _hello%2\n",
        "5. for"
      ]
    },
    {
      "cell_type": "markdown",
      "metadata": {
        "id": "R8Bn6MX0nPT5"
      },
      "source": [
        "<span style=\"color:red\">답변</span> : 1,4,5"
      ]
    },
    {
      "cell_type": "markdown",
      "source": [
        "**파이썬에서 변수 이름을 정할 때는 규칙을 따라야 합니다.\n",
        "보기로 주어진 변수는 아래와 같은 규칙을 따르지 않아 변수로 사용할 수 없습니다.**\n",
        "\n",
        "1. **변수 이름은 숫자로 시작할 수 없습니다. 따라서 `78abc`는 올바른 변수 이름이 아닙니다.**\n",
        "2. **변수 이름에는 알파벳, 숫자, 밑줄(_)만 사용할 수 있습니다. 특수 문자(% 등)는 사용할 수 없습니다.\n",
        "따라서 `_hello%2`는 올바른 변수 이름이 아닙니다.**\n",
        "3. **변수 이름은 파이썬의 키워드(예: `for`, `if`, `while`, `and`, `or` 등)와 같을 수 없습니다.\n",
        "따라서 `for`는 올바른 변수 이름이 아닙니다.**"
      ],
      "metadata": {
        "id": "A91MwEnesMX_"
      }
    },
    {
      "cell_type": "markdown",
      "metadata": {
        "id": "lUf3b1NFnPT5"
      },
      "source": []
    },
    {
      "cell_type": "markdown",
      "metadata": {
        "id": "q9pYCeOvnPT5"
      },
      "source": [
        "----"
      ]
    },
    {
      "cell_type": "markdown",
      "metadata": {
        "id": "-BOzjd1XnPT5"
      },
      "source": [
        "<span style=\"font-size:80%\">[문제5]<br><br></span>\n",
        "```다음 중 변수와 연산자의 사용 방법으로 올바르지 않은 것을 모두 골라주세요```\n",
        "\n",
        "x = 3\n",
        "y = 7\n",
        "\n",
        "1. x = x + y\n",
        "2. x // 2\n",
        "3. z >< x\n",
        "4. y += x\n",
        "5. ++x"
      ]
    },
    {
      "cell_type": "markdown",
      "metadata": {
        "id": "fKibcf09nPT6"
      },
      "source": [
        "<span style=\"color:red\">답변</span> : 5"
      ]
    },
    {
      "cell_type": "markdown",
      "source": [
        "파이썬에서는 ++ 연산자가 존재하지 않습니다. 만약 x를 1 증가시키려는 의도였다면, x += 1 또는 x = x + 1를 사용해야 합니다. 따라서 이는 올바르지 않은 사용 방법입니다."
      ],
      "metadata": {
        "id": "HZLFchIVslKM"
      }
    },
    {
      "cell_type": "markdown",
      "metadata": {
        "id": "dyZHjgovnPT6"
      },
      "source": []
    }
  ],
  "metadata": {
    "language_info": {
      "name": "python"
    },
    "colab": {
      "provenance": [],
      "include_colab_link": true
    },
    "kernelspec": {
      "name": "python3",
      "display_name": "Python 3"
    }
  },
  "nbformat": 4,
  "nbformat_minor": 0
}