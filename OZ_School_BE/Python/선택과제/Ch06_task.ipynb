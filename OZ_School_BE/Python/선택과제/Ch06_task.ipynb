{
  "cells": [
    {
      "cell_type": "markdown",
      "metadata": {
        "id": "view-in-github",
        "colab_type": "text"
      },
      "source": [
        "<a href=\"https://colab.research.google.com/github/cmmnnie/mygit/blob/main/OZ_School_BE/Python/%EC%84%A0%ED%83%9D%EA%B3%BC%EC%A0%9C/Ch06_task.ipynb\" target=\"_parent\"><img src=\"https://colab.research.google.com/assets/colab-badge.svg\" alt=\"Open In Colab\"/></a>"
      ]
    },
    {
      "cell_type": "markdown",
      "metadata": {
        "id": "sQKehKspIlpq"
      },
      "source": [
        "<span style=\"font-size:100%\">\n",
        "\n",
        "수업은 모두 열심히 들으셨나요?\n",
        "\n",
        "간혹 강의에서 언급되지 않은 내용이 문제로 나올 수 있습니다.<br>\n",
        "그럴땐 강의 내용 외 문제는 구글링을 통해 해결해주세요<br></span>\n",
        "<span style=\"font-size:80%\">\n",
        "(구글링 또한 개발자가 갖쳐야할 역량 중에 하나랍니다 😊)\n",
        "</span>\n",
        "\n",
        "---"
      ]
    },
    {
      "cell_type": "markdown",
      "metadata": {
        "id": "TcpoyBQsIlpt"
      },
      "source": [
        "<span style=\"font-size:80%\">[문제1]<br><br></span>\n",
        "```실수를 정수로 만드는 식으로 올바른 것을 고르세요```\n",
        "\n",
        "1. str(3.5)\n",
        "2. int(3.5)\n",
        "3. float(3.5)"
      ]
    },
    {
      "cell_type": "markdown",
      "metadata": {
        "id": "w0K0_ZV2Ilpu"
      },
      "source": [
        "<span style=\"color:red\">답변</span> : 2"
      ]
    },
    {
      "cell_type": "markdown",
      "source": [
        "파이썬에서 `int()` 함수는 실수를 정수로 변환하는 역할을 합니다.\n",
        "\n",
        "이때 소수점 아래의 값은 버림 처리됩니다. 따라서 `int(3.5)`는 `3.5`를 정수 `3`으로 변환합니다.\n",
        "\n",
        "이와 달리 `str(3.5)`는 실수 `3.5`를 문자열 `'3.5'`로 변환하는 것이고, `float(3.5)`는 이미 실수인 `3.5`를 그대로 반환합니다.\n",
        "\n",
        "이 두 함수는 실수를 정수로 변환하는 역할을 하지 않습니다. 따라서 이 두 표현은 이 문제의 정답이 아닙니다."
      ],
      "metadata": {
        "id": "N49xTSFRMsa6"
      }
    },
    {
      "cell_type": "markdown",
      "metadata": {
        "id": "uWSwvxzRIlpu"
      },
      "source": []
    },
    {
      "cell_type": "markdown",
      "metadata": {
        "id": "aW1-yKPNIlpv"
      },
      "source": [
        "----"
      ]
    },
    {
      "cell_type": "markdown",
      "metadata": {
        "id": "f4uurx2OIlpv"
      },
      "source": [
        "<span style=\"font-size:80%\">[문제2]<br><br></span>\n",
        "```실수 3.5의 type으로 올바른 것을 고르세요```\n",
        "\n",
        "1. float(17//3)\n",
        "2. int(10)-9\n",
        "3. float11/2\n",
        "4. float(10)-2"
      ]
    },
    {
      "cell_type": "markdown",
      "metadata": {
        "id": "RunYkzYoIlpw"
      },
      "source": [
        "<span style=\"color:red\">답변</span> : float (보기에 오류가 있는것 같음)"
      ]
    },
    {
      "cell_type": "markdown",
      "metadata": {
        "id": "cygEwu5pIlpw"
      },
      "source": []
    },
    {
      "cell_type": "markdown",
      "metadata": {
        "id": "dnsO8HXsIlpw"
      },
      "source": [
        "----"
      ]
    },
    {
      "cell_type": "markdown",
      "metadata": {
        "id": "dCnWDlzHIlpx"
      },
      "source": [
        "<span style=\"font-size:80%\">[문제3]<br><br></span>\n",
        "```type(3.0 + 7.0)의 결과로 올바른 것을 고르세요```\n",
        "\n",
        "1. 10\n",
        "2. 10.0\n",
        "3. int\n",
        "4. float"
      ]
    },
    {
      "cell_type": "markdown",
      "metadata": {
        "id": "VX4sdB-JIlpx"
      },
      "source": [
        "<span style=\"color:red\">답변</span> : 4"
      ]
    },
    {
      "cell_type": "markdown",
      "metadata": {
        "id": "XIF3S8pLIlpx"
      },
      "source": []
    },
    {
      "cell_type": "markdown",
      "metadata": {
        "id": "Ak5jEAbGIlpx"
      },
      "source": [
        "----"
      ]
    },
    {
      "cell_type": "markdown",
      "metadata": {
        "id": "Z3zehtbeIlpy"
      },
      "source": [
        "<span style=\"font-size:80%\">[문제4]<br><br></span>\n",
        "```float(5)의 결과로 올바른 것을 고르세요```\n",
        "\n",
        "1. 5\n",
        "2. `<class float>`\n",
        "3. 5.0\n",
        "4. type error"
      ]
    },
    {
      "cell_type": "markdown",
      "metadata": {
        "id": "hiVoodjHIlpy"
      },
      "source": [
        "<span style=\"color:red\">답변</span> : 3"
      ]
    },
    {
      "cell_type": "markdown",
      "metadata": {
        "id": "ZSy7vpolIlpy"
      },
      "source": []
    },
    {
      "cell_type": "markdown",
      "metadata": {
        "id": "8GXvVYHRIlpy"
      },
      "source": [
        "----"
      ]
    },
    {
      "cell_type": "markdown",
      "metadata": {
        "id": "IVIS9V1XIlpy"
      },
      "source": [
        "<span style=\"font-size:80%\">[문제5]<br><br></span>\n",
        "```int(13 / 2)의 결과로 올바른 것을 고르세요```\n",
        "\n",
        "1. 6.5\n",
        "2. 1\n",
        "3. 6\n",
        "4. 6.0"
      ]
    },
    {
      "cell_type": "markdown",
      "metadata": {
        "id": "HBoXyTK7Ilpz"
      },
      "source": [
        "<span style=\"color:red\">답변</span> : 3"
      ]
    },
    {
      "cell_type": "markdown",
      "source": [
        "**파이썬에서 `/` 연산자를 사용하면 나눗셈의 결과는 항상 `float` 타입으로 반환됩니다. 따라서 `13 / 2`는 `6.5`라는 `float` 타입의 값이 됩니다.**\n",
        "\n",
        "**그리고 `int()` 함수는 주어진 값을 정수로 변환하는 역할을 합니다. 이때 실수를 정수로 변환하면, 소수점 아래의 값은 버림 처리됩니다.**\n",
        "\n",
        "**따라서 `int(13 / 2)`는 `13 / 2`의 결과인 `6.5`를 정수 `6`으로 변환합니다.**"
      ],
      "metadata": {
        "id": "qdj7RZVBOnLY"
      }
    }
  ],
  "metadata": {
    "language_info": {
      "name": "python"
    },
    "colab": {
      "provenance": [],
      "include_colab_link": true
    },
    "kernelspec": {
      "name": "python3",
      "display_name": "Python 3"
    }
  },
  "nbformat": 4,
  "nbformat_minor": 0
}