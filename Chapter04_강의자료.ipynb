{
  "cells": [
    {
      "cell_type": "markdown",
      "metadata": {
        "id": "view-in-github",
        "colab_type": "text"
      },
      "source": [
        "<a href=\"https://colab.research.google.com/github/cmmnnie/mygit/blob/main/Chapter04_%E1%84%80%E1%85%A1%E1%86%BC%E1%84%8B%E1%85%B4%E1%84%8C%E1%85%A1%E1%84%85%E1%85%AD.ipynb\" target=\"_parent\"><img src=\"https://colab.research.google.com/assets/colab-badge.svg\" alt=\"Open In Colab\"/></a>"
      ]
    },
    {
      "cell_type": "markdown",
      "metadata": {
        "id": "IMrl4K2OmtXH"
      },
      "source": [
        "사칙연산\n",
        "\n",
        "더하기 : +\n",
        "\n",
        "빼기   : -\n",
        "\n",
        "곱하기 : *\n",
        "\n",
        "나누기\n",
        "* /  : 우리가 알고 있는 나누기와 동일 (예: 5 / 2 = 2.5)\n",
        "* // : 몫을 반환 (예 5/2 = 2)\n",
        "* %  : 나머지 반환 (예 5/2 =1)\n",
        "\n",
        "거듭제곱 : **"
      ]
    },
    {
      "cell_type": "code",
      "execution_count": null,
      "metadata": {
        "colab": {
          "base_uri": "https://localhost:8080/"
        },
        "id": "JTB2En2gmiuK",
        "outputId": "230a45d2-6898-42cb-a3ba-9b2534527195"
      },
      "outputs": [
        {
          "data": {
            "text/plain": [
              "5"
            ]
          },
          "execution_count": 9,
          "metadata": {},
          "output_type": "execute_result"
        }
      ],
      "source": [
        "# 더하기\n",
        "print(3 + 2)"
      ]
    },
    {
      "cell_type": "code",
      "execution_count": null,
      "metadata": {
        "colab": {
          "base_uri": "https://localhost:8080/"
        },
        "id": "5z2DU3V6ztpQ",
        "outputId": "b176e5c6-9388-46a0-c92e-b5ef7ea96333"
      },
      "outputs": [
        {
          "data": {
            "text/plain": [
              "1"
            ]
          },
          "execution_count": 6,
          "metadata": {},
          "output_type": "execute_result"
        }
      ],
      "source": [
        "# 빼기\n",
        "print(3 - 2)"
      ]
    },
    {
      "cell_type": "code",
      "execution_count": null,
      "metadata": {
        "colab": {
          "base_uri": "https://localhost:8080/"
        },
        "id": "0mk2UOho4CJs",
        "outputId": "f59027f3-7122-49f6-c2c7-31f0d8a2ffac"
      },
      "outputs": [
        {
          "name": "stdout",
          "output_type": "stream",
          "text": [
            "6\n"
          ]
        }
      ],
      "source": [
        "# 곱하기\n",
        "print(3 * 2)"
      ]
    },
    {
      "cell_type": "code",
      "execution_count": null,
      "metadata": {
        "colab": {
          "base_uri": "https://localhost:8080/"
        },
        "id": "HqOa4zj64E-m",
        "outputId": "888a54f4-251b-462b-c1be-159f483d7480"
      },
      "outputs": [
        {
          "data": {
            "text/plain": [
              "1.5"
            ]
          },
          "execution_count": 2,
          "metadata": {},
          "output_type": "execute_result"
        }
      ],
      "source": [
        "# 나누기\n",
        "print(3 / 2)"
      ]
    },
    {
      "cell_type": "code",
      "execution_count": 1,
      "metadata": {
        "id": "3NPrpP5i6Gkh",
        "colab": {
          "base_uri": "https://localhost:8080/"
        },
        "outputId": "894baaf9-4d8d-416e-894d-fe22ef0c9362"
      },
      "outputs": [
        {
          "output_type": "stream",
          "name": "stdout",
          "text": [
            "1\n"
          ]
        }
      ],
      "source": [
        "# 나누기의 몫\n",
        "print(3 // 2)"
      ]
    },
    {
      "cell_type": "code",
      "execution_count": 2,
      "metadata": {
        "id": "7jxYcIh86HsA",
        "colab": {
          "base_uri": "https://localhost:8080/"
        },
        "outputId": "e189d7fc-b58e-4c5c-ffbd-0e39ac6d8102"
      },
      "outputs": [
        {
          "output_type": "stream",
          "name": "stdout",
          "text": [
            "1\n"
          ]
        }
      ],
      "source": [
        "# 나누기의 나머지\n",
        "print(3 % 2)"
      ]
    },
    {
      "cell_type": "code",
      "execution_count": 3,
      "metadata": {
        "id": "0TN-uiBi6JZA",
        "colab": {
          "base_uri": "https://localhost:8080/"
        },
        "outputId": "6c609e04-e896-42da-d052-a31b974ba955"
      },
      "outputs": [
        {
          "output_type": "stream",
          "name": "stdout",
          "text": [
            "9\n"
          ]
        }
      ],
      "source": [
        "# 거듭제곱\n",
        "print(3 ** 2)"
      ]
    },
    {
      "cell_type": "markdown",
      "metadata": {
        "id": "3prX03Wf6O8A"
      },
      "source": [
        "## 내장함수 : divmod\n",
        "\n",
        "**내장 함수란?**\n",
        ">자주 사용 하는 기능을 미리 만들어 놓은것을 **내장함수**라고 하며, 여기서 말하는 함수는 특별한 목적의 작업을 수행하기 위해 독립적으로 설계된 **코드의 집합**이라 생각하시면 됩니다.\n",
        "\n",
        "파이썬에는 다양한 내장함수가 존재하며,\n",
        "내장함수는 파이썬이 입문자에게 가장 좋은 언어로 각광받는 요인 중 하나에 해당한다.\n",
        "\n",
        "divmod : 몫과 나머지를 동시에 구해줌\n"
      ]
    },
    {
      "cell_type": "code",
      "execution_count": 4,
      "metadata": {
        "id": "3bQHCBqb8cc3",
        "colab": {
          "base_uri": "https://localhost:8080/"
        },
        "outputId": "f9d7d41b-7c00-4734-9231-156c8ad0d37d"
      },
      "outputs": [
        {
          "output_type": "execute_result",
          "data": {
            "text/plain": [
              "(1, 1)"
            ]
          },
          "metadata": {},
          "execution_count": 4
        }
      ],
      "source": [
        "divmod(3,2)"
      ]
    },
    {
      "cell_type": "markdown",
      "metadata": {
        "id": "0BsHu9oT9WK9"
      },
      "source": [
        "괄호 ( )\n",
        "\n",
        "수학에서 사용되는 괄호와 동일한 기능\n",
        "\n",
        "( ) : 괄호안에 있는 것을 먼저 계산\n",
        "\n",
        "사칙연산 순서 : 괄호 -> 곱셉, 나눗셈 -> 덧셈, 뺼셈"
      ]
    },
    {
      "cell_type": "code",
      "execution_count": 5,
      "metadata": {
        "id": "dagwczbd8e-8",
        "colab": {
          "base_uri": "https://localhost:8080/"
        },
        "outputId": "207957aa-d5f7-4fbf-8592-849f63a989bd"
      },
      "outputs": [
        {
          "output_type": "execute_result",
          "data": {
            "text/plain": [
              "11"
            ]
          },
          "metadata": {},
          "execution_count": 5
        }
      ],
      "source": [
        "3 + 2 * 4"
      ]
    },
    {
      "cell_type": "code",
      "execution_count": 6,
      "metadata": {
        "id": "A0ZMZr9e-Hhm",
        "colab": {
          "base_uri": "https://localhost:8080/"
        },
        "outputId": "3d2ab798-d408-4f9a-9b33-8918e3e0b43a"
      },
      "outputs": [
        {
          "output_type": "execute_result",
          "data": {
            "text/plain": [
              "20"
            ]
          },
          "metadata": {},
          "execution_count": 6
        }
      ],
      "source": [
        "(3 + 2) * 4"
      ]
    }
  ],
  "metadata": {
    "colab": {
      "provenance": [],
      "include_colab_link": true
    },
    "kernelspec": {
      "display_name": "Python 3",
      "name": "python3"
    },
    "language_info": {
      "codemirror_mode": {
        "name": "ipython",
        "version": 3
      },
      "file_extension": ".py",
      "mimetype": "text/x-python",
      "name": "python",
      "nbconvert_exporter": "python",
      "pygments_lexer": "ipython3",
      "version": "3.11.7"
    }
  },
  "nbformat": 4,
  "nbformat_minor": 0
}